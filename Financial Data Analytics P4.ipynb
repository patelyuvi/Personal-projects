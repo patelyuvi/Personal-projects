{
 "cells": [
  {
   "cell_type": "markdown",
   "id": "f48b49cd",
   "metadata": {},
   "source": [
    "### Importing necessary libraries"
   ]
  },
  {
   "cell_type": "code",
   "execution_count": 1,
   "id": "e116eda0",
   "metadata": {},
   "outputs": [],
   "source": [
    "import pandas as pd\n",
    "import numpy as np\n",
    "import matplotlib.pyplot as plt\n",
    "%matplotlib inline"
   ]
  },
  {
   "cell_type": "markdown",
   "id": "2183abf1",
   "metadata": {},
   "source": [
    "### Reading and formatting the data for analysis"
   ]
  },
  {
   "cell_type": "code",
   "execution_count": 2,
   "id": "b5d5ddec",
   "metadata": {},
   "outputs": [
    {
     "data": {
      "text/html": [
       "<div>\n",
       "<style scoped>\n",
       "    .dataframe tbody tr th:only-of-type {\n",
       "        vertical-align: middle;\n",
       "    }\n",
       "\n",
       "    .dataframe tbody tr th {\n",
       "        vertical-align: top;\n",
       "    }\n",
       "\n",
       "    .dataframe thead th {\n",
       "        text-align: right;\n",
       "    }\n",
       "</style>\n",
       "<table border=\"1\" class=\"dataframe\">\n",
       "  <thead>\n",
       "    <tr style=\"text-align: right;\">\n",
       "      <th></th>\n",
       "      <th>Name</th>\n",
       "      <th>Mar Cap - Crore</th>\n",
       "      <th>Sales Qtr - Crore</th>\n",
       "    </tr>\n",
       "  </thead>\n",
       "  <tbody>\n",
       "    <tr>\n",
       "      <th>0</th>\n",
       "      <td>Reliance Inds.</td>\n",
       "      <td>583436.72</td>\n",
       "      <td>99810.00</td>\n",
       "    </tr>\n",
       "    <tr>\n",
       "      <th>1</th>\n",
       "      <td>TCS</td>\n",
       "      <td>563709.84</td>\n",
       "      <td>30904.00</td>\n",
       "    </tr>\n",
       "    <tr>\n",
       "      <th>2</th>\n",
       "      <td>HDFC Bank</td>\n",
       "      <td>482953.59</td>\n",
       "      <td>20581.27</td>\n",
       "    </tr>\n",
       "    <tr>\n",
       "      <th>3</th>\n",
       "      <td>ITC</td>\n",
       "      <td>320985.27</td>\n",
       "      <td>9772.02</td>\n",
       "    </tr>\n",
       "    <tr>\n",
       "      <th>4</th>\n",
       "      <td>H D F C</td>\n",
       "      <td>289497.37</td>\n",
       "      <td>16840.51</td>\n",
       "    </tr>\n",
       "  </tbody>\n",
       "</table>\n",
       "</div>"
      ],
      "text/plain": [
       "             Name  Mar Cap - Crore  Sales Qtr - Crore\n",
       "0  Reliance Inds.        583436.72           99810.00\n",
       "1             TCS        563709.84           30904.00\n",
       "2       HDFC Bank        482953.59           20581.27\n",
       "3             ITC        320985.27            9772.02\n",
       "4         H D F C        289497.37           16840.51"
      ]
     },
     "execution_count": 2,
     "metadata": {},
     "output_type": "execute_result"
    }
   ],
   "source": [
    "financial_data = pd.read_csv(\"Financial Analytics data.csv\")\n",
    "financial_data['Sales Qtr - Crore'] = financial_data['Sales Qtr - Crore'].combine_first(financial_data['Unnamed: 4'])\n",
    "financial_data.drop([\"Unnamed: 4\",\"S.No.\"],axis=1,inplace=True)\n",
    "financial_data = financial_data.dropna()\n",
    "financial_data.head()"
   ]
  },
  {
   "cell_type": "markdown",
   "id": "1dd8f5f3",
   "metadata": {},
   "source": [
    "### Checking for null values"
   ]
  },
  {
   "cell_type": "code",
   "execution_count": 3,
   "id": "6615dead",
   "metadata": {},
   "outputs": [
    {
     "data": {
      "text/plain": [
       "Name                 0\n",
       "Mar Cap - Crore      0\n",
       "Sales Qtr - Crore    0\n",
       "dtype: int64"
      ]
     },
     "execution_count": 3,
     "metadata": {},
     "output_type": "execute_result"
    }
   ],
   "source": [
    "financial_data.isnull().sum()"
   ]
  },
  {
   "cell_type": "code",
   "execution_count": 4,
   "id": "7f160c0d",
   "metadata": {},
   "outputs": [
    {
     "data": {
      "text/html": [
       "<div>\n",
       "<style scoped>\n",
       "    .dataframe tbody tr th:only-of-type {\n",
       "        vertical-align: middle;\n",
       "    }\n",
       "\n",
       "    .dataframe tbody tr th {\n",
       "        vertical-align: top;\n",
       "    }\n",
       "\n",
       "    .dataframe thead th {\n",
       "        text-align: right;\n",
       "    }\n",
       "</style>\n",
       "<table border=\"1\" class=\"dataframe\">\n",
       "  <thead>\n",
       "    <tr style=\"text-align: right;\">\n",
       "      <th></th>\n",
       "      <th>Mar Cap - Crore</th>\n",
       "      <th>Sales Qtr - Crore</th>\n",
       "    </tr>\n",
       "  </thead>\n",
       "  <tbody>\n",
       "    <tr>\n",
       "      <th>count</th>\n",
       "      <td>459.000000</td>\n",
       "      <td>459.000000</td>\n",
       "    </tr>\n",
       "    <tr>\n",
       "      <th>mean</th>\n",
       "      <td>28870.974139</td>\n",
       "      <td>3807.789412</td>\n",
       "    </tr>\n",
       "    <tr>\n",
       "      <th>std</th>\n",
       "      <td>60557.081792</td>\n",
       "      <td>9989.449987</td>\n",
       "    </tr>\n",
       "    <tr>\n",
       "      <th>min</th>\n",
       "      <td>3017.070000</td>\n",
       "      <td>0.000000</td>\n",
       "    </tr>\n",
       "    <tr>\n",
       "      <th>25%</th>\n",
       "      <td>4942.815000</td>\n",
       "      <td>534.910000</td>\n",
       "    </tr>\n",
       "    <tr>\n",
       "      <th>50%</th>\n",
       "      <td>10442.090000</td>\n",
       "      <td>1137.170000</td>\n",
       "    </tr>\n",
       "    <tr>\n",
       "      <th>75%</th>\n",
       "      <td>24707.320000</td>\n",
       "      <td>2730.195000</td>\n",
       "    </tr>\n",
       "    <tr>\n",
       "      <th>max</th>\n",
       "      <td>583436.720000</td>\n",
       "      <td>110666.930000</td>\n",
       "    </tr>\n",
       "  </tbody>\n",
       "</table>\n",
       "</div>"
      ],
      "text/plain": [
       "       Mar Cap - Crore  Sales Qtr - Crore\n",
       "count       459.000000         459.000000\n",
       "mean      28870.974139        3807.789412\n",
       "std       60557.081792        9989.449987\n",
       "min        3017.070000           0.000000\n",
       "25%        4942.815000         534.910000\n",
       "50%       10442.090000        1137.170000\n",
       "75%       24707.320000        2730.195000\n",
       "max      583436.720000      110666.930000"
      ]
     },
     "execution_count": 4,
     "metadata": {},
     "output_type": "execute_result"
    }
   ],
   "source": [
    "financial_data.describe()"
   ]
  },
  {
   "cell_type": "code",
   "execution_count": 5,
   "id": "25e7c469",
   "metadata": {},
   "outputs": [
    {
     "name": "stdout",
     "output_type": "stream",
     "text": [
      "<class 'pandas.core.frame.DataFrame'>\n",
      "Index: 459 entries, 0 to 486\n",
      "Data columns (total 3 columns):\n",
      " #   Column             Non-Null Count  Dtype  \n",
      "---  ------             --------------  -----  \n",
      " 0   Name               459 non-null    object \n",
      " 1   Mar Cap - Crore    459 non-null    float64\n",
      " 2   Sales Qtr - Crore  459 non-null    float64\n",
      "dtypes: float64(2), object(1)\n",
      "memory usage: 14.3+ KB\n"
     ]
    }
   ],
   "source": [
    "financial_data.info()"
   ]
  },
  {
   "cell_type": "markdown",
   "id": "9e13ea6b",
   "metadata": {},
   "source": [
    "### The biggest comapanies Market Cap and Sales Qtr wise"
   ]
  },
  {
   "cell_type": "code",
   "execution_count": 6,
   "id": "f838ef73",
   "metadata": {
    "scrolled": true
   },
   "outputs": [
    {
     "data": {
      "text/html": [
       "<div>\n",
       "<style scoped>\n",
       "    .dataframe tbody tr th:only-of-type {\n",
       "        vertical-align: middle;\n",
       "    }\n",
       "\n",
       "    .dataframe tbody tr th {\n",
       "        vertical-align: top;\n",
       "    }\n",
       "\n",
       "    .dataframe thead th {\n",
       "        text-align: right;\n",
       "    }\n",
       "</style>\n",
       "<table border=\"1\" class=\"dataframe\">\n",
       "  <thead>\n",
       "    <tr style=\"text-align: right;\">\n",
       "      <th></th>\n",
       "      <th>Name</th>\n",
       "      <th>Mar Cap - Crore</th>\n",
       "      <th>Sales Qtr - Crore</th>\n",
       "    </tr>\n",
       "  </thead>\n",
       "  <tbody>\n",
       "    <tr>\n",
       "      <th>0</th>\n",
       "      <td>Reliance Inds.</td>\n",
       "      <td>583436.72</td>\n",
       "      <td>99810.00</td>\n",
       "    </tr>\n",
       "    <tr>\n",
       "      <th>1</th>\n",
       "      <td>TCS</td>\n",
       "      <td>563709.84</td>\n",
       "      <td>30904.00</td>\n",
       "    </tr>\n",
       "    <tr>\n",
       "      <th>2</th>\n",
       "      <td>HDFC Bank</td>\n",
       "      <td>482953.59</td>\n",
       "      <td>20581.27</td>\n",
       "    </tr>\n",
       "    <tr>\n",
       "      <th>3</th>\n",
       "      <td>ITC</td>\n",
       "      <td>320985.27</td>\n",
       "      <td>9772.02</td>\n",
       "    </tr>\n",
       "    <tr>\n",
       "      <th>4</th>\n",
       "      <td>H D F C</td>\n",
       "      <td>289497.37</td>\n",
       "      <td>16840.51</td>\n",
       "    </tr>\n",
       "    <tr>\n",
       "      <th>...</th>\n",
       "      <td>...</td>\n",
       "      <td>...</td>\n",
       "      <td>...</td>\n",
       "    </tr>\n",
       "    <tr>\n",
       "      <th>482</th>\n",
       "      <td>Prime Focus</td>\n",
       "      <td>3031.50</td>\n",
       "      <td>609.61</td>\n",
       "    </tr>\n",
       "    <tr>\n",
       "      <th>483</th>\n",
       "      <td>Lak. Vilas Bank</td>\n",
       "      <td>3029.57</td>\n",
       "      <td>790.17</td>\n",
       "    </tr>\n",
       "    <tr>\n",
       "      <th>484</th>\n",
       "      <td>NOCIL</td>\n",
       "      <td>3026.26</td>\n",
       "      <td>249.27</td>\n",
       "    </tr>\n",
       "    <tr>\n",
       "      <th>485</th>\n",
       "      <td>Orient Cement</td>\n",
       "      <td>3024.32</td>\n",
       "      <td>511.53</td>\n",
       "    </tr>\n",
       "    <tr>\n",
       "      <th>486</th>\n",
       "      <td>Natl.Fertilizer</td>\n",
       "      <td>3017.07</td>\n",
       "      <td>2840.75</td>\n",
       "    </tr>\n",
       "  </tbody>\n",
       "</table>\n",
       "<p>459 rows × 3 columns</p>\n",
       "</div>"
      ],
      "text/plain": [
       "                Name  Mar Cap - Crore  Sales Qtr - Crore\n",
       "0     Reliance Inds.        583436.72           99810.00\n",
       "1                TCS        563709.84           30904.00\n",
       "2          HDFC Bank        482953.59           20581.27\n",
       "3                ITC        320985.27            9772.02\n",
       "4            H D F C        289497.37           16840.51\n",
       "..               ...              ...                ...\n",
       "482      Prime Focus          3031.50             609.61\n",
       "483  Lak. Vilas Bank          3029.57             790.17\n",
       "484            NOCIL          3026.26             249.27\n",
       "485    Orient Cement          3024.32             511.53\n",
       "486  Natl.Fertilizer          3017.07            2840.75\n",
       "\n",
       "[459 rows x 3 columns]"
      ]
     },
     "execution_count": 6,
     "metadata": {},
     "output_type": "execute_result"
    }
   ],
   "source": [
    "financial_data.sort_values(\"Mar Cap - Crore\",ascending=False)"
   ]
  },
  {
   "cell_type": "code",
   "execution_count": 7,
   "id": "92b1f822",
   "metadata": {},
   "outputs": [
    {
     "data": {
      "text/html": [
       "<div>\n",
       "<style scoped>\n",
       "    .dataframe tbody tr th:only-of-type {\n",
       "        vertical-align: middle;\n",
       "    }\n",
       "\n",
       "    .dataframe tbody tr th {\n",
       "        vertical-align: top;\n",
       "    }\n",
       "\n",
       "    .dataframe thead th {\n",
       "        text-align: right;\n",
       "    }\n",
       "</style>\n",
       "<table border=\"1\" class=\"dataframe\">\n",
       "  <thead>\n",
       "    <tr style=\"text-align: right;\">\n",
       "      <th></th>\n",
       "      <th>Name</th>\n",
       "      <th>Mar Cap - Crore</th>\n",
       "      <th>Sales Qtr - Crore</th>\n",
       "    </tr>\n",
       "  </thead>\n",
       "  <tbody>\n",
       "    <tr>\n",
       "      <th>14</th>\n",
       "      <td>I O C L</td>\n",
       "      <td>178017.48</td>\n",
       "      <td>110666.93</td>\n",
       "    </tr>\n",
       "    <tr>\n",
       "      <th>0</th>\n",
       "      <td>Reliance Inds.</td>\n",
       "      <td>583436.72</td>\n",
       "      <td>99810.00</td>\n",
       "    </tr>\n",
       "    <tr>\n",
       "      <th>23</th>\n",
       "      <td>Tata Motors</td>\n",
       "      <td>117071.87</td>\n",
       "      <td>74156.07</td>\n",
       "    </tr>\n",
       "    <tr>\n",
       "      <th>27</th>\n",
       "      <td>B P C L</td>\n",
       "      <td>98278.00</td>\n",
       "      <td>60616.36</td>\n",
       "    </tr>\n",
       "    <tr>\n",
       "      <th>54</th>\n",
       "      <td>H P C L</td>\n",
       "      <td>58034.78</td>\n",
       "      <td>57474.25</td>\n",
       "    </tr>\n",
       "    <tr>\n",
       "      <th>...</th>\n",
       "      <td>...</td>\n",
       "      <td>...</td>\n",
       "      <td>...</td>\n",
       "    </tr>\n",
       "    <tr>\n",
       "      <th>422</th>\n",
       "      <td>Multi Comm. Exc.</td>\n",
       "      <td>3847.19</td>\n",
       "      <td>60.97</td>\n",
       "    </tr>\n",
       "    <tr>\n",
       "      <th>467</th>\n",
       "      <td>Central Dep. Ser</td>\n",
       "      <td>3316.31</td>\n",
       "      <td>47.24</td>\n",
       "    </tr>\n",
       "    <tr>\n",
       "      <th>382</th>\n",
       "      <td>Tata Inv.Corpn.</td>\n",
       "      <td>4401.66</td>\n",
       "      <td>47.02</td>\n",
       "    </tr>\n",
       "    <tr>\n",
       "      <th>228</th>\n",
       "      <td>SPARC</td>\n",
       "      <td>10755.13</td>\n",
       "      <td>19.42</td>\n",
       "    </tr>\n",
       "    <tr>\n",
       "      <th>393</th>\n",
       "      <td>Ujjivan Fin.Ser.</td>\n",
       "      <td>4293.42</td>\n",
       "      <td>0.00</td>\n",
       "    </tr>\n",
       "  </tbody>\n",
       "</table>\n",
       "<p>459 rows × 3 columns</p>\n",
       "</div>"
      ],
      "text/plain": [
       "                 Name  Mar Cap - Crore  Sales Qtr - Crore\n",
       "14            I O C L        178017.48          110666.93\n",
       "0      Reliance Inds.        583436.72           99810.00\n",
       "23        Tata Motors        117071.87           74156.07\n",
       "27            B P C L         98278.00           60616.36\n",
       "54            H P C L         58034.78           57474.25\n",
       "..                ...              ...                ...\n",
       "422  Multi Comm. Exc.          3847.19              60.97\n",
       "467  Central Dep. Ser          3316.31              47.24\n",
       "382   Tata Inv.Corpn.          4401.66              47.02\n",
       "228             SPARC         10755.13              19.42\n",
       "393  Ujjivan Fin.Ser.          4293.42               0.00\n",
       "\n",
       "[459 rows x 3 columns]"
      ]
     },
     "execution_count": 7,
     "metadata": {},
     "output_type": "execute_result"
    }
   ],
   "source": [
    "financial_data.sort_values(\"Sales Qtr - Crore\",ascending=False)"
   ]
  },
  {
   "cell_type": "code",
   "execution_count": 8,
   "id": "6fcad048",
   "metadata": {},
   "outputs": [
    {
     "data": {
      "image/png": "[encoded data removed]",
      "text/plain": [
       "<Figure size 640x480 with 1 Axes>"
      ]
     },
     "metadata": {},
     "output_type": "display_data"
    }
   ],
   "source": [
    "plt.scatter(financial_data[\"Mar Cap - Crore\"],financial_data[\"Sales Qtr - Crore\"])\n",
    "plt.xlabel(\"Mar Cap - Crore\")\n",
    "plt.ylabel(\"Sales Qtr - Crore\")\n",
    "plt.title(\"Market Cap Vs Sales\")\n",
    "plt.show()"
   ]
  }
 ],
 "metadata": {
  "kernelspec": {
   "display_name": "Python 3 (ipykernel)",
   "language": "python",
   "name": "python3"
  },
  "language_info": {
   "codemirror_mode": {
    "name": "ipython",
    "version": 3
   },
   "file_extension": ".py",
   "mimetype": "text/x-python",
   "name": "python",
   "nbconvert_exporter": "python",
   "pygments_lexer": "ipython3",
   "version": "3.11.4"
  }
 },
 "nbformat": 4,
 "nbformat_minor": 5
}
